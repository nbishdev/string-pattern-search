{
 "cells": [
  {
   "cell_type": "markdown",
   "metadata": {},
   "source": [
    "# Molecular Biology - String pattern search\n",
    "## $k$-mers search in DNA strings\n",
    "## We use DNA strings of length up to $20,000$ characters.\n",
    "### All tests we performed using multiprocessing - parrallel computations."
   ]
  },
  {
   "cell_type": "markdown",
   "metadata": {},
   "source": [
    "#### This notebook uses Python version 3.6 or newer."
   ]
  },
  {
   "cell_type": "markdown",
   "metadata": {},
   "source": [
    "Let's start by checking the Python version."
   ]
  },
  {
   "cell_type": "code",
   "execution_count": 1,
   "metadata": {},
   "outputs": [],
   "source": [
    "import sys\n",
    "\n",
    "if int(sys.version[0]) < 3 or int(sys.version[2]) < 6:\n",
    "    assert(\"Python version 3.6 or newer is required\")"
   ]
  },
  {
   "cell_type": "markdown",
   "metadata": {},
   "source": [
    "We continue by importing the necessary libraries and toolkits."
   ]
  },
  {
   "cell_type": "code",
   "execution_count": 2,
   "metadata": {},
   "outputs": [],
   "source": [
    "import logging\n",
    "import matplotlib.pyplot as plt\n",
    "import numpy as np\n",
    "import random\n",
    "import timeit\n",
    "from functools import partial\n",
    "from multiprocessing import Pool\n",
    "\n",
    "%matplotlib inline"
   ]
  },
  {
   "cell_type": "markdown",
   "metadata": {},
   "source": [
    "Let's define some functions for random strings creation and storing in a file.\n",
    "\n",
    "<b>CreateFile</b> creates a file in which all the randomly created strings will be stored.\n",
    "\n",
    "<b>CreateRandStr</b> creates a random string with the specified length using characters of the specified alphabet."
   ]
  },
  {
   "cell_type": "code",
   "execution_count": 3,
   "metadata": {},
   "outputs": [],
   "source": [
    "def CreateFile(filePath, lengths, maxStringsPerLength, alphabet):\n",
    "    file = open(filePath,'w')\n",
    "    \n",
    "    for length in lengths:\n",
    "        for i in range(maxStringsPerLength):\n",
    "            string = CreateRandStr(length, alphabet)\n",
    "            file.write(string + '\\n')\n",
    "    \n",
    "    file.close()\n",
    "\n",
    "def CreateRandStr(str_len, alphabet='ACGT'):\n",
    "    # create an empty string\n",
    "    rand_str = \"\"\n",
    "    \n",
    "    # how many characters of the string we have determined so far\n",
    "    chr_cnt = 0\n",
    "    \n",
    "    while chr_cnt < str_len:\n",
    "        rand_str = rand_str + alphabet[random.randint(0,len(alphabet)-1)]\n",
    "        chr_cnt = chr_cnt + 1\n",
    "    return rand_str"
   ]
  },
  {
   "cell_type": "markdown",
   "metadata": {},
   "source": [
    "Let's initialize all the common variables that we are going to use and create the file with the random strings as well as logging.\n",
    "\n",
    "<b>Note</b>: we are going to search for $k$-mers in strings of $3\\cdot10,000 + 3\\cdot12,000 + 3\\cdot14,000 + 3\\cdot16,000 + 3\\cdot18,000 + 3\\cdot20,000 = 270,000$ characters in total."
   ]
  },
  {
   "cell_type": "code",
   "execution_count": 4,
   "metadata": {},
   "outputs": [],
   "source": [
    "# intitialize & configure logging\n",
    "format = \"%(asctime)s: %(message)s\"\n",
    "logging.basicConfig(format=format, level=logging.INFO, datefmt=\"%H:%M:%S\")\n",
    "\n",
    "\n",
    "# the string lengths that we are going to use\n",
    "lengths = [10000, 12000, 14000, 16000, 18000, 20000]\n",
    "\n",
    "\n",
    "# the number of parallel processes that we are going to spawn - one process per string length\n",
    "n_processes = len(lengths)\n",
    "\n",
    "\n",
    "# maximum number of strings per string length, strings alphabet and file name\n",
    "maxStringsPerLength = 3\n",
    "alphabet = 'ACGT'\n",
    "filename = 'strings.txt'\n",
    "\n",
    "\n",
    "# randomness seed - use for results reproducibility\n",
    "random.seed(13)\n",
    "\n",
    "# create random strings - use it if no strings file is available\n",
    "CreateFile(filename, lengths, maxStringsPerLength, alphabet)"
   ]
  },
  {
   "cell_type": "markdown",
   "metadata": {},
   "source": [
    "### Experiment No. 1 : $k$-mers search, using FrequentWords\n",
    "\n",
    "#### In this experiment we search for $k$-mers in strings using a sliding window with stride 1 for every pattern, keeping their counts and measuring search time.\n",
    "\n",
    "#### In every string we examine, for every pattern we find in this string, we search the whole string from the start to count the occurencies of this pattern. This proceedure requires $\\mathcal{O}(n^2)$ time."
   ]
  },
  {
   "cell_type": "markdown",
   "metadata": {},
   "source": [
    "Let's define some functions for $k$-mers search using multiprocessing.\n",
    "\n",
    "<b>PatternCount</b> counts the occurencies of a pattern in a string, using a sliding window with step 1.\n",
    "\n",
    "<b>FrequentWords</b> collects all pattern counts of length $k$ and returns the ones with the highest count.\n",
    "\n",
    "<b>find_patterns_fw</b> reads string from a file and initializes the search, counting the respective durations.\n",
    "\n",
    "<b>run_multiprocessing_fw</b> initializes multiprocessing."
   ]
  },
  {
   "cell_type": "code",
   "execution_count": 5,
   "metadata": {},
   "outputs": [],
   "source": [
    "def PatternCount(text, pattern):\n",
    "    count = 0;\n",
    "    pattern_length = len(pattern)\n",
    "    text_length = len(text)\n",
    "    \n",
    "    for i in range(0, text_length-pattern_length+1):\n",
    "        if (text[i:i+pattern_length]==pattern):\n",
    "            count = count + 1\n",
    "    \n",
    "    return count\n",
    "\n",
    "def FrequentWords(text, k):\n",
    "    frequent_patterns = set()\n",
    "    text_length = len(text)\n",
    "    count = np.zeros(text_length-k+1)\n",
    "    \n",
    "    # calcuate word frequency\n",
    "    for i in range(0, text_length-k+1):\n",
    "        pattern = text[i:i+k]\n",
    "        count[i] = PatternCount(text, pattern)\n",
    "    \n",
    "    # maximum frequency \n",
    "    max_count = max(count)\n",
    "    \n",
    "    # add words with maximum frequency to frequent_patterns\n",
    "    for i in range(0, text_length-k+1):\n",
    "        if (count[i]==max_count):\n",
    "            frequent_patterns.add(text[i:i+k])\n",
    "    \n",
    "    return (frequent_patterns,max_count)\n",
    "\n",
    "# function to be executed by each process\n",
    "def find_patterns_fw(length, filename, k):\n",
    "    logging.info(f\"Process {length}: starting\")\n",
    "    \n",
    "    time = 0\n",
    "    words = []\n",
    "    \n",
    "    count = 0\n",
    "    \n",
    "    file = open(filename, 'r')\n",
    "\n",
    "    for line in file:\n",
    "        text = line.strip()\n",
    "        \n",
    "        if len(text) != length:\n",
    "            continue\n",
    "\n",
    "        start=timeit.default_timer()\n",
    "        result = FrequentWords(text,k)\n",
    "        stop=timeit.default_timer()\n",
    "        time += stop-start\n",
    "        words.append(result)\n",
    "        \n",
    "        count += 1\n",
    "\n",
    "    file.close()\n",
    "    \n",
    "    logging.info(f\"Process {length}: finishing\")\n",
    "    \n",
    "    return (time/count, words)\n",
    "\n",
    "# mutliprocessing intitialization\n",
    "def run_multiprocessing_fw(func, lengths, filename, k, n_processes):\n",
    "    with Pool(processes=n_processes) as pool:\n",
    "        return pool.map(partial(func, filename=filename, k=k), lengths)"
   ]
  },
  {
   "cell_type": "markdown",
   "metadata": {},
   "source": [
    "#### Search for $6$-mers in the random strings, using FrequentWords."
   ]
  },
  {
   "cell_type": "code",
   "execution_count": 6,
   "metadata": {},
   "outputs": [
    {
     "name": "stderr",
     "output_type": "stream",
     "text": [
      "17:06:52: Process 12000: starting17:06:52: Process 16000: starting17:06:52: Process 18000: starting\n",
      "17:06:52: Process 20000: starting17:06:52: Process 14000: starting\n",
      "17:06:52: Process 10000: starting\n",
      "\n",
      "\n",
      "\n",
      "17:07:41: Process 10000: finishing\n",
      "17:08:03: Process 12000: finishing\n",
      "17:08:26: Process 14000: finishing\n",
      "17:08:54: Process 16000: finishing\n",
      "17:09:31: Process 18000: finishing\n",
      "17:10:03: Process 20000: finishing\n"
     ]
    },
    {
     "name": "stdout",
     "output_type": "stream",
     "text": [
      "FrequentWords time (seconds): 228.45539238175846\n",
      "----------------------------------------------------------------------------------------------------\n",
      "Top 6-mers using FrequentWords:\n",
      "3 6-mers of frequency 9.0 in 1 of 3 strings of length 10000\n",
      "1 6-mers of frequency 11.0 in 1 of 3 strings of length 10000\n",
      "1 6-mers of frequency 13.0 in 1 of 3 strings of length 10000\n",
      "14 6-mers of frequency 9.0 in 1 of 3 strings of length 12000\n",
      "2 6-mers of frequency 10.0 in 1 of 3 strings of length 12000\n",
      "3 6-mers of frequency 10.0 in 1 of 3 strings of length 12000\n",
      "1 6-mers of frequency 13.0 in 1 of 3 strings of length 14000\n",
      "1 6-mers of frequency 12.0 in 1 of 3 strings of length 14000\n",
      "2 6-mers of frequency 12.0 in 1 of 3 strings of length 14000\n",
      "3 6-mers of frequency 12.0 in 1 of 3 strings of length 16000\n",
      "1 6-mers of frequency 15.0 in 1 of 3 strings of length 16000\n",
      "1 6-mers of frequency 13.0 in 1 of 3 strings of length 16000\n",
      "1 6-mers of frequency 13.0 in 1 of 3 strings of length 18000\n",
      "1 6-mers of frequency 13.0 in 1 of 3 strings of length 18000\n",
      "6 6-mers of frequency 13.0 in 1 of 3 strings of length 18000\n",
      "1 6-mers of frequency 17.0 in 1 of 3 strings of length 20000\n",
      "1 6-mers of frequency 14.0 in 1 of 3 strings of length 20000\n",
      "1 6-mers of frequency 14.0 in 1 of 3 strings of length 20000\n"
     ]
    }
   ],
   "source": [
    "k = 6\n",
    "\n",
    "\n",
    "# multiprocessing\n",
    "outputs = run_multiprocessing_fw(find_patterns_fw, lengths, filename, k, n_processes)\n",
    "\n",
    "\n",
    "# collect the appropriate outputs for presentation\n",
    "fwstimes = []\n",
    "fwswords = []\n",
    "\n",
    "for output in outputs:\n",
    "    fwstimes.append(output[0])\n",
    "    fwswords.append(output[1])\n",
    "\n",
    "\n",
    "# present outputs\n",
    "print(f\"FrequentWords time (seconds): {sum(fwstimes)}\")\n",
    "\n",
    "print('-' * 100)\n",
    "\n",
    "print(f\"Top {k}-mers using FrequentWords:\")\n",
    "for i in range(len(lengths)):\n",
    "    for j in range(maxStringsPerLength):\n",
    "        print(f\"{len(fwswords[i][j][0])} {k}-mers of frequency {fwswords[i][j][1]} in 1 of {maxStringsPerLength} strings of length {lengths[i]}\")"
   ]
  },
  {
   "cell_type": "markdown",
   "metadata": {},
   "source": [
    "#### Search for $11$-mers in the random strings, using FrequentWords."
   ]
  },
  {
   "cell_type": "code",
   "execution_count": 7,
   "metadata": {},
   "outputs": [
    {
     "name": "stderr",
     "output_type": "stream",
     "text": [
      "17:10:03: Process 20000: starting17:10:03: Process 12000: starting17:10:03: Process 16000: starting17:10:03: Process 10000: starting17:10:03: Process 18000: starting\n",
      "\n",
      "\n",
      "17:10:03: Process 14000: starting\n",
      "\n",
      "\n",
      "17:10:52: Process 10000: finishing\n",
      "17:11:14: Process 12000: finishing\n",
      "17:11:39: Process 14000: finishing\n",
      "17:12:09: Process 16000: finishing\n",
      "17:12:42: Process 18000: finishing\n",
      "17:13:20: Process 20000: finishing\n"
     ]
    },
    {
     "name": "stdout",
     "output_type": "stream",
     "text": [
      "FrequentWords time (seconds): 232.6767065107124\n",
      "----------------------------------------------------------------------------------------------------\n",
      "Top 11-mers using FrequentWords:\n",
      "14 11-mers of frequency 2.0 in 1 of 3 strings of length 10000\n",
      "6 11-mers of frequency 2.0 in 1 of 3 strings of length 10000\n",
      "13 11-mers of frequency 2.0 in 1 of 3 strings of length 10000\n",
      "20 11-mers of frequency 2.0 in 1 of 3 strings of length 12000\n",
      "17 11-mers of frequency 2.0 in 1 of 3 strings of length 12000\n",
      "1 11-mers of frequency 3.0 in 1 of 3 strings of length 12000\n",
      "24 11-mers of frequency 2.0 in 1 of 3 strings of length 14000\n",
      "25 11-mers of frequency 2.0 in 1 of 3 strings of length 14000\n",
      "32 11-mers of frequency 2.0 in 1 of 3 strings of length 14000\n",
      "35 11-mers of frequency 2.0 in 1 of 3 strings of length 16000\n",
      "27 11-mers of frequency 2.0 in 1 of 3 strings of length 16000\n",
      "24 11-mers of frequency 2.0 in 1 of 3 strings of length 16000\n",
      "39 11-mers of frequency 2.0 in 1 of 3 strings of length 18000\n",
      "55 11-mers of frequency 2.0 in 1 of 3 strings of length 18000\n",
      "29 11-mers of frequency 2.0 in 1 of 3 strings of length 18000\n",
      "50 11-mers of frequency 2.0 in 1 of 3 strings of length 20000\n",
      "51 11-mers of frequency 2.0 in 1 of 3 strings of length 20000\n",
      "54 11-mers of frequency 2.0 in 1 of 3 strings of length 20000\n"
     ]
    }
   ],
   "source": [
    "k = 11\n",
    "\n",
    "\n",
    "# multiprocessing\n",
    "outputs = run_multiprocessing_fw(find_patterns_fw, lengths, filename, k, n_processes)\n",
    "\n",
    "\n",
    "# collect the appropriate outputs for presentation\n",
    "fwtimes = []\n",
    "fwwords = []\n",
    "\n",
    "for output in outputs:\n",
    "    fwtimes.append(output[0])\n",
    "    fwwords.append(output[1])\n",
    "\n",
    "\n",
    "# present outputs\n",
    "print(f\"FrequentWords time (seconds): {sum(fwtimes)}\")\n",
    "\n",
    "print('-' * 100)\n",
    "\n",
    "print(f\"Top {k}-mers using FrequentWords:\")\n",
    "for i in range(len(lengths)):\n",
    "    for j in range(maxStringsPerLength):\n",
    "        print(f\"{len(fwwords[i][j][0])} {k}-mers of frequency {fwwords[i][j][1]} in 1 of {maxStringsPerLength} strings of length {lengths[i]}\")"
   ]
  },
  {
   "cell_type": "markdown",
   "metadata": {},
   "source": [
    "#### Results\n",
    "\n",
    "Let's plot the time difference between searching for $6$-mers and $11$-mers using FrequentWords."
   ]
  },
  {
   "cell_type": "code",
   "execution_count": 8,
   "metadata": {},
   "outputs": [
    {
     "data": {
      "image/png": "[encoded data removed]",
      "text/plain": [
       "<Figure size 432x288 with 1 Axes>"
      ]
     },
     "metadata": {
      "needs_background": "light"
     },
     "output_type": "display_data"
    }
   ],
   "source": [
    "plt.title('FrequentWords with k=6 and k=11')\n",
    "plt.xlabel('Length of strings')\n",
    "plt.ylabel('Search time (sec)')\n",
    "plt.xscale(\"log\")\n",
    "plt.plot(lengths, fwstimes, color='blue', label='FrequentWords k=6')\n",
    "plt.plot(lengths, fwtimes, color='orange', label='FrequentWords k=11')\n",
    "plt.legend()\n",
    "plt.show()"
   ]
  },
  {
   "cell_type": "markdown",
   "metadata": {},
   "source": [
    "We notice that going from $k=6$ to $k=11$ there are no significant changes in time."
   ]
  },
  {
   "cell_type": "markdown",
   "metadata": {},
   "source": [
    "### Experiment No. 2 : $k$-mers optimized search, using FrequentWordsDict.\n",
    "\n",
    "#### In this experiment we have created a dictionary for indexing $k$-mers and a list for storing their respective frequencies in order to optimize the search, keeping their counts and measuring the search time.\n",
    "\n",
    "#### This proceedure requires $\\mathcal{O}(n)$ time, which makes it faster than the previous seach proceedure.\n",
    "\n",
    "#### However, in order to achieve these optimizations, we need to create all $n^k$ $k$-mers (with characters from a dictionary with size $n$). In our case, $n=4 \\Rightarrow 4^k k$-mers."
   ]
  },
  {
   "cell_type": "markdown",
   "metadata": {},
   "source": [
    "Let's define some functions for dictionary creation to index $4^k$ $k$-mers.\n",
    "\n",
    "<b>getAllKLength</b> creates a dictionary with all possible $k$-mers based on the alphabet.\n",
    "\n",
    "<b>getAllKLengthRec</b> collects all patterns with length $k$ based on the alphabet."
   ]
  },
  {
   "cell_type": "code",
   "execution_count": 9,
   "metadata": {},
   "outputs": [],
   "source": [
    "# A method that creates all possible strings of length k for a given alphabet and stores them in a dictionary.\n",
    "# The dictionary has these strings as keys and their numeric representation as values, which can be used for indexing.\n",
    "# It is mainly a wrapper over the recursive function getAllKLengthRec()\n",
    "def getAllKLength(k, alphabet='ACGT'):\n",
    "    dictionary = {}\n",
    "    n = len(alphabet)\n",
    "    getAllKLengthRec(\"\", dictionary, n, k, alphabet)\n",
    "    \n",
    "    return dictionary\n",
    "\n",
    "# The main recursive method to get all possible strings of length k\n",
    "def getAllKLengthRec(prefix, dictionary, n, k, alphabet):\n",
    "    # Base case: k is 0, store prefix and index in the dictionary\n",
    "    if (k == 0):\n",
    "        dictionary[prefix] = len(dictionary)\n",
    "        return\n",
    "\n",
    "    # One by one add all characters from alphabet and recursively\n",
    "    # call for new k_new = k_old - 1\n",
    "    for i in range(n):\n",
    "        # Next character of input added \n",
    "        newPrefix = prefix + alphabet[i]\n",
    "\n",
    "        # k decreases, because we have added a new character\n",
    "        getAllKLengthRec(newPrefix, dictionary, n, k - 1, alphabet)"
   ]
  },
  {
   "cell_type": "markdown",
   "metadata": {},
   "source": [
    "Let's define some functions for $k$-mers search using multiprocessing.\n",
    "\n",
    "<b>FrequentWordsDict</b> creates a list for word frequency counts, counts the frequency of all $k$-mers and returns the ones with the highest count.\n",
    "\n",
    "<b>find_patterns_fwd</b> reads string from a file and initializes the search, counting the respective durations.\n",
    "\n",
    "<b>run_multiprocessing_fwd</b> initializes multiprocessing."
   ]
  },
  {
   "cell_type": "code",
   "execution_count": 10,
   "metadata": {},
   "outputs": [],
   "source": [
    "def FrequentWordsDict(text, k, alphabet, dictionary):\n",
    "    frequent_patterns = set()\n",
    "    text_length = len(text)\n",
    "    num_chars = len(alphabet)\n",
    "    \n",
    "    # a (frequency) array of length 4^k\n",
    "    farray = np.zeros(num_chars ** k)\n",
    "    \n",
    "    # calcuate word frequency\n",
    "    for i in range(0, text_length-k+1):\n",
    "        pattern = text[i:i+k]\n",
    "        index = dictionary[pattern]\n",
    "        farray[index] += 1\n",
    "    \n",
    "    # maximum frequency\n",
    "    max_count = max(farray)\n",
    "    \n",
    "    # add words with maximum frequency to frequent_patterns\n",
    "    for i in range(0, text_length-k+1):\n",
    "        pattern = text[i:i+k]\n",
    "        index = dictionary[pattern]\n",
    "        if farray[index] == max_count:\n",
    "            frequent_patterns.add(text[i:i+k])\n",
    "    \n",
    "    return (frequent_patterns, max_count)\n",
    "\n",
    "# function to be executed by each process\n",
    "def find_patterns_fwd(length, filename, k, alphabet):\n",
    "    logging.info(f\"Process {length}: starting\")\n",
    "    \n",
    "    # index of 4^k k-mers\n",
    "    dictionary = getAllKLength(k, alphabet)\n",
    "    \n",
    "    time = 0\n",
    "    words = []\n",
    "    \n",
    "    count = 0\n",
    "    \n",
    "    file = open(filename, 'r')\n",
    "\n",
    "    for line in file:\n",
    "        text = line.strip()\n",
    "        \n",
    "        if len(text) != length:\n",
    "            continue\n",
    "        \n",
    "        start=timeit.default_timer()\n",
    "        result = FrequentWordsDict(text,k,alphabet,dictionary)\n",
    "        stop=timeit.default_timer()\n",
    "        time += stop-start\n",
    "        words.append(result)\n",
    "        \n",
    "        count += 1\n",
    "\n",
    "    file.close()\n",
    "    \n",
    "    logging.info(f\"Process {length}: finishing\")\n",
    "    \n",
    "    return (time/count, words)\n",
    "\n",
    "# mutliprocessing intitialization\n",
    "def run_multiprocessing_fwd(func, lengths, filename, k, alphabet, n_processes):\n",
    "    with Pool(processes=n_processes) as pool:\n",
    "        return pool.map(partial(func, filename=filename, k=k, alphabet=alphabet), lengths)"
   ]
  },
  {
   "cell_type": "markdown",
   "metadata": {},
   "source": [
    "#### Now, we are going to search for $11$-mers in the random strings, using FrequentWordsDict.\n",
    "\n",
    "The dictionary for $k$-mer frequency indexing all $4^k$ $k$-mers as well as the frequency list, require a significant amount of memory as the value of $k$ raises. Furthermore, since we use multiprocessing, every process will have its own copy of these data structures, which raises the memory requirements even further. This means we must be careful regarding the values of $k$ we are going to use.\n",
    "\n",
    "For example, using $k > 11$ results in the creation of at least $4^{12}\\approx16,800,000$ different $12$-mers for indexing, each one with size about 61 bytes, which translates to $4^{12}\\times61\\approx1.1$ GB for every single process. With $6$ processes we end up with memory usage of $\\approx6.2$ GB."
   ]
  },
  {
   "cell_type": "code",
   "execution_count": 11,
   "metadata": {},
   "outputs": [
    {
     "name": "stderr",
     "output_type": "stream",
     "text": [
      "17:13:21: Process 14000: starting17:13:21: Process 12000: starting17:13:21: Process 18000: starting\n",
      "\n",
      "17:13:21: Process 10000: starting\n",
      "17:13:21: Process 16000: starting17:13:21: Process 20000: starting\n",
      "\n",
      "\n",
      "17:13:28: Process 10000: finishing\n",
      "17:13:28: Process 16000: finishing\n",
      "17:13:28: Process 14000: finishing\n",
      "17:13:28: Process 18000: finishing\n",
      "17:13:28: Process 20000: finishing\n",
      "17:13:28: Process 12000: finishing\n"
     ]
    },
    {
     "name": "stdout",
     "output_type": "stream",
     "text": [
      "FrequentWordsDict time (seconds): 3.972131391288713\n",
      "----------------------------------------------------------------------------------------------------\n",
      "Top 11-mers using FrequentWordsDict:\n",
      "14 11-mers of frequency 2.0 in 1 of 3 strings of length 10000\n",
      "6 11-mers of frequency 2.0 in 1 of 3 strings of length 10000\n",
      "13 11-mers of frequency 2.0 in 1 of 3 strings of length 10000\n",
      "20 11-mers of frequency 2.0 in 1 of 3 strings of length 12000\n",
      "17 11-mers of frequency 2.0 in 1 of 3 strings of length 12000\n",
      "1 11-mers of frequency 3.0 in 1 of 3 strings of length 12000\n",
      "24 11-mers of frequency 2.0 in 1 of 3 strings of length 14000\n",
      "25 11-mers of frequency 2.0 in 1 of 3 strings of length 14000\n",
      "32 11-mers of frequency 2.0 in 1 of 3 strings of length 14000\n",
      "35 11-mers of frequency 2.0 in 1 of 3 strings of length 16000\n",
      "27 11-mers of frequency 2.0 in 1 of 3 strings of length 16000\n",
      "24 11-mers of frequency 2.0 in 1 of 3 strings of length 16000\n",
      "39 11-mers of frequency 2.0 in 1 of 3 strings of length 18000\n",
      "55 11-mers of frequency 2.0 in 1 of 3 strings of length 18000\n",
      "29 11-mers of frequency 2.0 in 1 of 3 strings of length 18000\n",
      "50 11-mers of frequency 2.0 in 1 of 3 strings of length 20000\n",
      "51 11-mers of frequency 2.0 in 1 of 3 strings of length 20000\n",
      "54 11-mers of frequency 2.0 in 1 of 3 strings of length 20000\n"
     ]
    }
   ],
   "source": [
    "k = 11\n",
    "\n",
    "# multiprocessing\n",
    "outputs = run_multiprocessing_fwd(find_patterns_fwd, lengths, filename, k, alphabet, n_processes)\n",
    "\n",
    "\n",
    "# collect the appropriate outputs for presentation\n",
    "fwdtimes = []\n",
    "fwdwords = []\n",
    "\n",
    "for output in outputs:\n",
    "    fwdtimes.append(output[0])\n",
    "    fwdwords.append(output[1])\n",
    "\n",
    "\n",
    "# present outputs\n",
    "print(f\"FrequentWordsDict time (seconds): {sum(fwdtimes)}\")\n",
    "\n",
    "print('-' * 100)\n",
    "\n",
    "print(f\"Top {k}-mers using FrequentWordsDict:\")\n",
    "for i in range(len(lengths)):\n",
    "    for j in range(maxStringsPerLength):\n",
    "        print(f\"{len(fwdwords[i][j][0])} {k}-mers of frequency {fwdwords[i][j][1]} in 1 of {maxStringsPerLength} strings of length {lengths[i]}\")"
   ]
  },
  {
   "cell_type": "markdown",
   "metadata": {},
   "source": [
    "#### Results\n",
    "\n",
    "Let's plot the time difference between using FrequentWords and FrequentWordsDict in searching for $11$-mers."
   ]
  },
  {
   "cell_type": "code",
   "execution_count": 12,
   "metadata": {},
   "outputs": [
    {
     "data": {
      "image/png": "[encoded data removed]",
      "text/plain": [
       "<Figure size 432x288 with 1 Axes>"
      ]
     },
     "metadata": {
      "needs_background": "light"
     },
     "output_type": "display_data"
    }
   ],
   "source": [
    "plt.title('FrequentWords vs FrequentWordsDict with k=11')\n",
    "plt.xlabel('Length of strings')\n",
    "plt.ylabel('Search time (sec)')\n",
    "plt.xscale(\"log\")\n",
    "plt.plot(lengths, fwtimes, color='blue', label='FrequentWords')\n",
    "plt.plot(lengths, fwdtimes, color='orange', label='FrequentWordsDict')\n",
    "plt.legend()\n",
    "plt.show()"
   ]
  },
  {
   "cell_type": "markdown",
   "metadata": {},
   "source": [
    "It is obvious that while using FrequentWords the search time increases exponentially, while using FrequentWordsDict the search time was barely increses with the length of strings."
   ]
  },
  {
   "cell_type": "markdown",
   "metadata": {},
   "source": [
    "### Experiment No. 3 : $k$-mers optimized search, using FrequentWordsDictNew.\n",
    "\n",
    "#### To avoid creating the dictionary with the $4^{k}$ patterns, we can convert each pattern to its respective occurence number for indexing. The first time a pattern occurs among all patterns, this becomes its respective index number. We then add it to the dictionary to avoid future conversions of the same $k$-mer.\n",
    "\n",
    "#### This helps in saving memory and avoiding out-of-memory situation, since we only index patterns that do exist in the strings we examine. On the other hand we get an increase in search times, since we need to convert every $k$-mer to number the first time we come across it. We use this dictionary to help us with updating the respective frequency of every $k$-mer in the farray which is a list."
   ]
  },
  {
   "cell_type": "markdown",
   "metadata": {},
   "source": [
    "Let's define a function for converting each pattern to its respective index number.\n",
    "\n",
    "<b>PatternToNumber</b> converts each pattern to its respective index number."
   ]
  },
  {
   "cell_type": "code",
   "execution_count": 13,
   "metadata": {},
   "outputs": [],
   "source": [
    "def PatternToNumber(pattern, k, alphabet='ACGT'):\n",
    "    if len(pattern) != k:\n",
    "        print(\"String length does not match the value of k\")\n",
    "        raise\n",
    "    \n",
    "    # Convert alphabet to enumerated dictionary\n",
    "    dictionary = dict((j,i) for i,j in enumerate(list(alphabet)))\n",
    "    \n",
    "    # Find the character with zero value in the dictionary\n",
    "    zero = ''\n",
    "    for key, value in dictionary.items():\n",
    "        if value == 0:\n",
    "            zero = key\n",
    "            break\n",
    "    \n",
    "    # Remove redundant \"zeros\" from the beggining of the pattern\n",
    "    newpattern = ''\n",
    "    for index in range(len(pattern)):\n",
    "        if pattern[index] != zero:\n",
    "            newpattern = pattern[index:]\n",
    "            break\n",
    "    \n",
    "    # Find the index of pattern (construct like converting from a system of 4 digits to decimal)\n",
    "    number = 0\n",
    "    conversion_base = len(dictionary)\n",
    "    for index, char in enumerate(reversed(newpattern)):\n",
    "        number += dictionary[char] * (conversion_base ** index)\n",
    "    \n",
    "    return number"
   ]
  },
  {
   "cell_type": "markdown",
   "metadata": {},
   "source": [
    "Let's define some functions for $k$-mers search using multiprocessing.\n",
    "\n",
    "<b>FrequentWordsDictNew</b> creates a list for word frequency counts, counts the frequency of all $k$-mers and returns the ones with the highest count.\n",
    "\n",
    "<b>find_patterns_fdwn</b> reads string from a file and initializes the search, counting the respective durations.\n",
    "\n",
    "<b>run_multiprocessing_fwdn</b> initializes multiprocessing."
   ]
  },
  {
   "cell_type": "code",
   "execution_count": 14,
   "metadata": {},
   "outputs": [],
   "source": [
    "def FrequentWordsDictNew(text, k, alphabet):\n",
    "    frequent_patterns = set()\n",
    "    text_length = len(text)\n",
    "    num_chars = len(alphabet)\n",
    "    \n",
    "    # empty dictionary, will be filled only with found words\n",
    "    dictionary = dict()\n",
    "    \n",
    "    # a (frequency) array of length 4^k\n",
    "    farray = np.zeros(num_chars ** k)\n",
    "    \n",
    "    # calcuate word frequency\n",
    "    for i in range(0, text_length-k+1):\n",
    "        pattern = text[i:i+k]\n",
    "        \n",
    "        if pattern in dictionary:\n",
    "            # pattern already processed\n",
    "            index = dictionary[pattern]\n",
    "            farray[index] += 1\n",
    "        else:\n",
    "            # new pattern\n",
    "            index = PatternToNumber(pattern, k)\n",
    "            dictionary[pattern] = index\n",
    "            farray[index] = 1\n",
    "    \n",
    "    # maximum frequency\n",
    "    max_count = max(farray)\n",
    "    \n",
    "    # add words with maximum frequency to frequent_patterns\n",
    "    for i in range(0, text_length-k+1):\n",
    "        pattern = text[i:i+k]\n",
    "        index = dictionary[pattern]\n",
    "        if farray[index] == max_count:\n",
    "            frequent_patterns.add(text[i:i+k])\n",
    "    \n",
    "    return (frequent_patterns,max_count)\n",
    "\n",
    "# function to be executed by each process\n",
    "def find_patterns_fdwn(length, filename, k, alphabet):\n",
    "    logging.info(f\"Process {length}: starting\")\n",
    "    \n",
    "    time = 0\n",
    "    words = []\n",
    "    \n",
    "    count = 0\n",
    "    \n",
    "    file = open(filename, 'r')\n",
    "\n",
    "    for line in file:\n",
    "        text = line.strip()\n",
    "        \n",
    "        if len(text) != length:\n",
    "            continue\n",
    "\n",
    "        start=timeit.default_timer()\n",
    "        result = FrequentWordsDictNew(text,k,alphabet)\n",
    "        stop=timeit.default_timer()\n",
    "        time += stop-start\n",
    "        words.append(result)\n",
    "        \n",
    "        count += 1\n",
    "\n",
    "    file.close()\n",
    "    \n",
    "    logging.info(f\"Process {length}: finishing\")\n",
    "    \n",
    "    return (time/count, words)\n",
    "\n",
    "# mutliprocessing intitialization\n",
    "def run_multiprocessing_fwdn(func, lengths, filename, k, alphabet, n_processes):\n",
    "    with Pool(processes=n_processes) as pool:\n",
    "        return pool.map(partial(func, filename=filename, k=k, alphabet=alphabet), lengths)"
   ]
  },
  {
   "cell_type": "markdown",
   "metadata": {},
   "source": [
    "#### Now, we are going to search for $11$-mers in the random strings, using FrequentWordsDictNew."
   ]
  },
  {
   "cell_type": "code",
   "execution_count": 15,
   "metadata": {},
   "outputs": [
    {
     "name": "stderr",
     "output_type": "stream",
     "text": [
      "17:13:29: Process 12000: starting17:13:29: Process 10000: starting17:13:29: Process 14000: starting17:13:29: Process 16000: starting17:13:29: Process 20000: starting17:13:29: Process 18000: starting\n",
      "\n",
      "\n",
      "\n",
      "\n",
      "\n",
      "17:13:31: Process 12000: finishing\n",
      "17:13:32: Process 14000: finishing\n",
      "17:13:32: Process 16000: finishing\n",
      "17:13:32: Process 20000: finishing\n",
      "17:13:34: Process 10000: finishing\n",
      "17:13:34: Process 18000: finishing\n"
     ]
    },
    {
     "name": "stdout",
     "output_type": "stream",
     "text": [
      "FrequentWordsDictNew time (seconds): 6.3198488993414985\n",
      "----------------------------------------------------------------------------------------------------\n",
      "Top 11-mers using FrequentWordsDictNew:\n",
      "14 11-mers of frequency 2.0 in 1 of 3 strings of length 10000\n",
      "6 11-mers of frequency 2.0 in 1 of 3 strings of length 10000\n",
      "13 11-mers of frequency 2.0 in 1 of 3 strings of length 10000\n",
      "20 11-mers of frequency 2.0 in 1 of 3 strings of length 12000\n",
      "17 11-mers of frequency 2.0 in 1 of 3 strings of length 12000\n",
      "1 11-mers of frequency 3.0 in 1 of 3 strings of length 12000\n",
      "24 11-mers of frequency 2.0 in 1 of 3 strings of length 14000\n",
      "25 11-mers of frequency 2.0 in 1 of 3 strings of length 14000\n",
      "32 11-mers of frequency 2.0 in 1 of 3 strings of length 14000\n",
      "35 11-mers of frequency 2.0 in 1 of 3 strings of length 16000\n",
      "27 11-mers of frequency 2.0 in 1 of 3 strings of length 16000\n",
      "24 11-mers of frequency 2.0 in 1 of 3 strings of length 16000\n",
      "39 11-mers of frequency 2.0 in 1 of 3 strings of length 18000\n",
      "55 11-mers of frequency 2.0 in 1 of 3 strings of length 18000\n",
      "29 11-mers of frequency 2.0 in 1 of 3 strings of length 18000\n",
      "50 11-mers of frequency 2.0 in 1 of 3 strings of length 20000\n",
      "51 11-mers of frequency 2.0 in 1 of 3 strings of length 20000\n",
      "54 11-mers of frequency 2.0 in 1 of 3 strings of length 20000\n"
     ]
    }
   ],
   "source": [
    "k = 11\n",
    "\n",
    "\n",
    "# multiprocessing\n",
    "outputs = run_multiprocessing_fwdn(find_patterns_fdwn, lengths, filename, k, alphabet, n_processes)\n",
    "\n",
    "\n",
    "# collect the appropriate outputs for presentation\n",
    "fwdntimes = []\n",
    "fwdnwords = []\n",
    "\n",
    "for output in outputs:\n",
    "    fwdntimes.append(output[0])\n",
    "    fwdnwords.append(output[1])\n",
    "\n",
    "\n",
    "# present outputs\n",
    "print(f\"FrequentWordsDictNew time (seconds): {sum(fwdntimes)}\")\n",
    "\n",
    "print('-' * 100)\n",
    "\n",
    "print(f\"Top {k}-mers using FrequentWordsDictNew:\")\n",
    "for i in range(len(lengths)):\n",
    "    for j in range(maxStringsPerLength):\n",
    "        print(f\"{len(fwdnwords[i][j][0])} {k}-mers of frequency {fwdnwords[i][j][1]} in 1 of {maxStringsPerLength} strings of length {lengths[i]}\")"
   ]
  },
  {
   "cell_type": "markdown",
   "metadata": {},
   "source": [
    "#### Results\n",
    "\n",
    "Let's plot the time difference between using FrequentWordsDict and FrequentWordsDictNew in searching for $11$-mers."
   ]
  },
  {
   "cell_type": "code",
   "execution_count": 16,
   "metadata": {},
   "outputs": [
    {
     "data": {
      "image/png": "[encoded data removed]",
      "text/plain": [
       "<Figure size 432x288 with 1 Axes>"
      ]
     },
     "metadata": {
      "needs_background": "light"
     },
     "output_type": "display_data"
    }
   ],
   "source": [
    "plt.title('FrequentWordsDict vs FrequentWordsDictNew with k=11')\n",
    "plt.xlabel('Length of strings')\n",
    "plt.ylabel('Search time (sec)')\n",
    "plt.xscale(\"log\")\n",
    "plt.plot(lengths, fwdtimes, color='orange', label='FrequentWordsDict')\n",
    "plt.plot(lengths, fwdntimes, color='green', label='FrequentWordsDictNew')\n",
    "plt.legend()\n",
    "plt.show()"
   ]
  },
  {
   "cell_type": "markdown",
   "metadata": {},
   "source": [
    "It is obvious that using FrequentWordsDictNew the search time can be slightly higher compared to using FrequentWordsDict. So, the lower memory usage comes at the cost of speed."
   ]
  },
  {
   "cell_type": "markdown",
   "metadata": {},
   "source": [
    "The questing now is: can we do better than both FrequentWordsDict and FrequentWordsDictNew? Can we have both lower memory utilization and higher speed?"
   ]
  },
  {
   "cell_type": "markdown",
   "metadata": {},
   "source": [
    "### Experiment No. 4 : $k$-mers optimized search, using FrequentWordsDictImproved.\n",
    "\n",
    "#### We are going to utilize a dictionary with default values for counting the occurencies of the patterns that exist in the strings we examine, instead of a maintaining a separate list, with the help of Python's collections.defaultdict."
   ]
  },
  {
   "cell_type": "markdown",
   "metadata": {},
   "source": [
    "Let's define some functions for $k$-mers search using multiprocessing.\n",
    "\n",
    "<b>FrequentWordsDictImproved</b> creates a dictionary for word frequency counts, counts the frequency of all $k$-mers and returns the ones with the highest count.\n",
    "\n",
    "<b>find_patterns_fdwi</b> reads string from a file and initializes the search, counting the respective durations.\n",
    "\n",
    "<b>run_multiprocessing_fwdi</b> initializes multiprocessing."
   ]
  },
  {
   "cell_type": "code",
   "execution_count": 17,
   "metadata": {},
   "outputs": [],
   "source": [
    "from collections import defaultdict\n",
    "\n",
    "def FrequentWordsDictImproved(text, k):\n",
    "    frequent_patterns = set()\n",
    "    text_length = len(text)\n",
    "    \n",
    "    # empty dictionary with default values 0, will be filled only with found words\n",
    "    patterns = defaultdict(int)\n",
    "    \n",
    "    # calcuate word frequency\n",
    "    for i in range(0, text_length-k+1):\n",
    "        pattern = text[i:i+k]\n",
    "        patterns[pattern] += 1\n",
    "    \n",
    "    # maximum frequency\n",
    "    max_count = max(patterns.values())\n",
    "    \n",
    "    # add words with maximum frequency to frequent_patterns\n",
    "    for key, value in patterns.items():\n",
    "        if value == max_count:\n",
    "            frequent_patterns.add(key)\n",
    "    \n",
    "    return(frequent_patterns,max_count)\n",
    "\n",
    "# function to be executed by each process\n",
    "def find_patterns_fdwi(length, filename, k):\n",
    "    logging.info(f\"Process {length}: starting\")\n",
    "    \n",
    "    time = 0\n",
    "    words = []\n",
    "    \n",
    "    count = 0\n",
    "    \n",
    "    file = open(filename, 'r')\n",
    "\n",
    "    for line in file:\n",
    "        text = line.strip()\n",
    "        \n",
    "        if len(text) != length:\n",
    "            continue\n",
    "\n",
    "        start=timeit.default_timer()\n",
    "        result = FrequentWordsDictImproved(text,k)\n",
    "        stop=timeit.default_timer()\n",
    "        time += stop-start\n",
    "        words.append(result)\n",
    "        \n",
    "        count += 1\n",
    "\n",
    "    file.close()\n",
    "    \n",
    "    logging.info(f\"Process {length}: finishing\")\n",
    "    \n",
    "    return (time/count, words)\n",
    "\n",
    "# mutliprocessing intitialization\n",
    "def run_multiprocessing_fwdi(func, lengths, filename, k, n_processes):\n",
    "    with Pool(processes=n_processes) as pool:\n",
    "        return pool.map(partial(func, filename=filename, k=k), lengths)"
   ]
  },
  {
   "cell_type": "markdown",
   "metadata": {},
   "source": [
    "#### Now, we are going to search for $11$-mers in the random strings, using FrequentWordsDictImproved."
   ]
  },
  {
   "cell_type": "code",
   "execution_count": 18,
   "metadata": {},
   "outputs": [
    {
     "name": "stderr",
     "output_type": "stream",
     "text": [
      "17:13:35: Process 10000: starting17:13:35: Process 14000: starting17:13:35: Process 20000: starting17:13:35: Process 18000: starting17:13:35: Process 16000: starting\n",
      "17:13:35: Process 12000: starting\n",
      "\n",
      "\n",
      "\n",
      "\n",
      "17:13:35: Process 18000: finishing\n",
      "17:13:35: Process 20000: finishing\n",
      "17:13:35: Process 12000: finishing\n",
      "17:13:35: Process 14000: finishing\n",
      "17:13:35: Process 16000: finishing17:13:35: Process 10000: finishing\n",
      "\n"
     ]
    },
    {
     "name": "stdout",
     "output_type": "stream",
     "text": [
      "FrequentWordsDictImproved time (seconds): 0.08125300856772812\n",
      "----------------------------------------------------------------------------------------------------\n",
      "Top 11-mers using FrequentWordsDictImproved:\n",
      "14 11-mers of frequency 2 in 1 of 3 strings of length 10000\n",
      "6 11-mers of frequency 2 in 1 of 3 strings of length 10000\n",
      "13 11-mers of frequency 2 in 1 of 3 strings of length 10000\n",
      "20 11-mers of frequency 2 in 1 of 3 strings of length 12000\n",
      "17 11-mers of frequency 2 in 1 of 3 strings of length 12000\n",
      "1 11-mers of frequency 3 in 1 of 3 strings of length 12000\n",
      "24 11-mers of frequency 2 in 1 of 3 strings of length 14000\n",
      "25 11-mers of frequency 2 in 1 of 3 strings of length 14000\n",
      "32 11-mers of frequency 2 in 1 of 3 strings of length 14000\n",
      "35 11-mers of frequency 2 in 1 of 3 strings of length 16000\n",
      "27 11-mers of frequency 2 in 1 of 3 strings of length 16000\n",
      "24 11-mers of frequency 2 in 1 of 3 strings of length 16000\n",
      "39 11-mers of frequency 2 in 1 of 3 strings of length 18000\n",
      "55 11-mers of frequency 2 in 1 of 3 strings of length 18000\n",
      "29 11-mers of frequency 2 in 1 of 3 strings of length 18000\n",
      "50 11-mers of frequency 2 in 1 of 3 strings of length 20000\n",
      "51 11-mers of frequency 2 in 1 of 3 strings of length 20000\n",
      "54 11-mers of frequency 2 in 1 of 3 strings of length 20000\n"
     ]
    }
   ],
   "source": [
    "k = 11\n",
    "\n",
    "\n",
    "# multiprocessing\n",
    "outputs = run_multiprocessing_fwdi(find_patterns_fdwi, lengths, filename, k, n_processes)\n",
    "\n",
    "\n",
    "# collect the appropriate outputs for presentation\n",
    "fwditimes = []\n",
    "fwdiwords = []\n",
    "\n",
    "for output in outputs:\n",
    "    fwditimes.append(output[0])\n",
    "    fwdiwords.append(output[1])\n",
    "\n",
    "\n",
    "# present outputs\n",
    "print(f\"FrequentWordsDictImproved time (seconds): {sum(fwditimes)}\")\n",
    "\n",
    "print('-' * 100)\n",
    "\n",
    "print(f\"Top {k}-mers using FrequentWordsDictImproved:\")\n",
    "for i in range(len(lengths)):\n",
    "    for j in range(maxStringsPerLength):\n",
    "        print(f\"{len(fwdiwords[i][j][0])} {k}-mers of frequency {fwdiwords[i][j][1]} in 1 of {maxStringsPerLength} strings of length {lengths[i]}\")"
   ]
  },
  {
   "cell_type": "markdown",
   "metadata": {},
   "source": [
    "#### Results\n",
    "\n",
    "Let's plot the time difference between using FrequentWordsDictNew and FrequentWordsDictImproved in searching for $11$-mers."
   ]
  },
  {
   "cell_type": "code",
   "execution_count": 19,
   "metadata": {},
   "outputs": [
    {
     "data": {
      "image/png": "[encoded data removed]",
      "text/plain": [
       "<Figure size 432x288 with 1 Axes>"
      ]
     },
     "metadata": {
      "needs_background": "light"
     },
     "output_type": "display_data"
    }
   ],
   "source": [
    "plt.title('FrequentWordsDict vs FrequentWordsDictNew vs FrequentWordsDictImproved with k=11')\n",
    "plt.xlabel('Length of strings')\n",
    "plt.ylabel('Search time (sec)')\n",
    "plt.xscale(\"log\")\n",
    "plt.plot(lengths, fwdntimes, color='green', label='FrequentWordsDictNew')\n",
    "plt.plot(lengths, fwditimes, color='red', label='FrequentWordsDictImproved')\n",
    "plt.legend()\n",
    "plt.show()"
   ]
  },
  {
   "cell_type": "markdown",
   "metadata": {},
   "source": [
    "Let's plot the time difference between using any of the 4 methods in searching for $11$-mers."
   ]
  },
  {
   "cell_type": "code",
   "execution_count": 20,
   "metadata": {},
   "outputs": [
    {
     "data": {
      "image/png": "[encoded data removed]",
      "text/plain": [
       "<Figure size 432x288 with 1 Axes>"
      ]
     },
     "metadata": {
      "needs_background": "light"
     },
     "output_type": "display_data"
    }
   ],
   "source": [
    "plt.title('FrequentWords vs FrequentWordsDict vs FrequentWordsDictNew vs FrequentWordsDictImproved with k=11')\n",
    "plt.xlabel('Length of strings')\n",
    "plt.ylabel('Search time (sec)')\n",
    "plt.xscale(\"log\")\n",
    "plt.plot(lengths, fwtimes, color='blue', label='FrequentWords')\n",
    "plt.plot(lengths, fwdtimes, color='orange', label='FrequentWordsDict')\n",
    "plt.plot(lengths, fwdntimes, color='green', label='FrequentWordsDictNew')\n",
    "plt.plot(lengths, fwditimes, color='red', label='FrequentWordsDictImproved')\n",
    "plt.legend()\n",
    "plt.show()"
   ]
  },
  {
   "cell_type": "markdown",
   "metadata": {},
   "source": [
    "We can see that all dict-based search methods are significantly higher than the original method, and the time  differences between them are negligible."
   ]
  },
  {
   "cell_type": "markdown",
   "metadata": {},
   "source": [
    "#### Confirm that the search results are correct (that we have found the same words and frequencies independently of the method used)"
   ]
  },
  {
   "cell_type": "code",
   "execution_count": 21,
   "metadata": {},
   "outputs": [],
   "source": [
    "maxlen = max(len(fwwords), len(fwdwords), len(fwdnwords), len(fwdiwords))\n",
    "\n",
    "if len(fwwords) != maxlen or len(fwdwords) != maxlen or len(fwdnwords) != maxlen or len(fwdiwords) != maxlen:\n",
    "    print(\"Incorrect results: different number of results from different search methods\")\n",
    "else:\n",
    "    for i in range(len(lengths)):\n",
    "        words = fwwords[i]\n",
    "        dwords = fwdwords[i]\n",
    "        dwnwords = fwdnwords[i]\n",
    "        dwiwords = fwdiwords[i]\n",
    "        \n",
    "        maxlen1 = max(len(words), len(dwords), len(dwnwords), len(dwiwords))\n",
    "        \n",
    "        if len(words) != maxlen1 or len(dwords) != maxlen1 or len(dwnwords) != maxlen1 or len(dwiwords) != maxlen1:\n",
    "            print(f\"Incorrect results: different number results from different search methods for length {lengths[i]}\")\n",
    "            break\n",
    "        \n",
    "        for j in range(maxlen1):\n",
    "            w = words[j]\n",
    "            dw = dwords[j]\n",
    "            dnw = dwnwords[j]\n",
    "            diw = dwiwords[j]\n",
    "            \n",
    "            if not set.intersection(set(w[0]), set(dw[0]), set(dnw[0]), set(diw[0])):\n",
    "                print(f\"Incorrect results: different most frequent words for length {lengths[i]} in string number {j}\")\n",
    "                break\n",
    "            \n",
    "            maxc = max(w[1], dw[1], dnw[1], diw[1])\n",
    "            \n",
    "            if w[1] != maxc or dw[1] != maxc or dnw[1] != maxc or diw[1] != maxc:\n",
    "                print(f\"Incorrect results: different count of most frequent words for length {lengths[i]} in string number {j}\")\n",
    "                break"
   ]
  },
  {
   "cell_type": "markdown",
   "metadata": {},
   "source": [
    "### Proof that FrequentWordsDictImproved is better"
   ]
  },
  {
   "cell_type": "markdown",
   "metadata": {},
   "source": [
    "#### On some of the machines we tested this notebook, we noticed that with FrequentWordsDict using $k>11$ resulted in multiprocessing execution hanging indefinitely.\n",
    "\n",
    "#### With FrequentWordsDictNew we could go up to $k=13$ safely, while using $k\\geqslant13$ multiprocessing execution hanged indefinitely.\n",
    "\n",
    "To make the halt problem obvious, just change the number of $k$ on the first line in the following cell and run it. You will notice that based on the specification of the machine, the execution will halt after some value of $k$ and interrupting the kernel using the stop button may not have any result."
   ]
  },
  {
   "cell_type": "code",
   "execution_count": 22,
   "metadata": {},
   "outputs": [
    {
     "name": "stderr",
     "output_type": "stream",
     "text": [
      "17:13:37: Process 16000: starting17:13:37: Process 10000: starting17:13:37: Process 14000: starting17:13:37: Process 18000: starting17:13:37: Process 12000: starting17:13:37: Process 20000: starting\n",
      "\n",
      "\n",
      "\n",
      "\n",
      "17:14:03: Process 10000: finishing\n",
      "17:14:03: Process 12000: finishing\n",
      "17:14:03: Process 16000: finishing\n",
      "17:14:04: Process 18000: finishing\n",
      "17:14:04: Process 14000: finishing\n",
      "17:14:04: Process 20000: finishing\n"
     ]
    },
    {
     "name": "stdout",
     "output_type": "stream",
     "text": [
      "FrequentWordsDictNew time (seconds): 54.08824593934696\n",
      "----------------------------------------------------------------------------------------------------\n",
      "Top 13-mers using FrequentWordsDictNew:\n",
      "1 13-mers of frequency 2.0 in 1 of 3 strings of length 10000\n",
      "9988 13-mers of frequency 1.0 in 1 of 3 strings of length 10000\n",
      "9988 13-mers of frequency 1.0 in 1 of 3 strings of length 10000\n",
      "4 13-mers of frequency 2.0 in 1 of 3 strings of length 12000\n",
      "11988 13-mers of frequency 1.0 in 1 of 3 strings of length 12000\n",
      "11988 13-mers of frequency 1.0 in 1 of 3 strings of length 12000\n",
      "1 13-mers of frequency 2.0 in 1 of 3 strings of length 14000\n",
      "2 13-mers of frequency 2.0 in 1 of 3 strings of length 14000\n",
      "3 13-mers of frequency 2.0 in 1 of 3 strings of length 14000\n",
      "3 13-mers of frequency 2.0 in 1 of 3 strings of length 16000\n",
      "15988 13-mers of frequency 1.0 in 1 of 3 strings of length 16000\n",
      "15988 13-mers of frequency 1.0 in 1 of 3 strings of length 16000\n",
      "2 13-mers of frequency 2.0 in 1 of 3 strings of length 18000\n",
      "8 13-mers of frequency 2.0 in 1 of 3 strings of length 18000\n",
      "3 13-mers of frequency 2.0 in 1 of 3 strings of length 18000\n",
      "19988 13-mers of frequency 1.0 in 1 of 3 strings of length 20000\n",
      "19988 13-mers of frequency 1.0 in 1 of 3 strings of length 20000\n",
      "8 13-mers of frequency 2.0 in 1 of 3 strings of length 20000\n",
      "----------------------------------------------------------------------------------------------------\n",
      "----------------------------------------------------------------------------------------------------\n",
      "----------------------------------------------------------------------------------------------------\n"
     ]
    },
    {
     "name": "stderr",
     "output_type": "stream",
     "text": [
      "17:14:05: Process 12000: starting17:14:05: Process 16000: starting\n",
      "\n",
      "17:14:05: Process 10000: starting17:14:05: Process 20000: starting17:14:05: Process 14000: starting17:14:05: Process 18000: starting\n",
      "\n",
      "\n",
      "\n",
      "17:14:05: Process 12000: finishing\n",
      "17:14:05: Process 10000: finishing\n",
      "17:14:05: Process 16000: finishing\n",
      "17:14:05: Process 14000: finishing17:14:05: Process 20000: finishing\n",
      "\n",
      "17:14:05: Process 18000: finishing\n"
     ]
    },
    {
     "name": "stdout",
     "output_type": "stream",
     "text": [
      "FrequentWordsDictImproved time (seconds): 0.10682242169665793\n",
      "----------------------------------------------------------------------------------------------------\n",
      "Top 13-mers using FrequentWordsDictImproved:\n",
      "1 13-mers of frequency 2 in 1 of 3 strings of length 10000\n",
      "9988 13-mers of frequency 1 in 1 of 3 strings of length 10000\n",
      "9988 13-mers of frequency 1 in 1 of 3 strings of length 10000\n",
      "4 13-mers of frequency 2 in 1 of 3 strings of length 12000\n",
      "11988 13-mers of frequency 1 in 1 of 3 strings of length 12000\n",
      "11988 13-mers of frequency 1 in 1 of 3 strings of length 12000\n",
      "1 13-mers of frequency 2 in 1 of 3 strings of length 14000\n",
      "2 13-mers of frequency 2 in 1 of 3 strings of length 14000\n",
      "3 13-mers of frequency 2 in 1 of 3 strings of length 14000\n",
      "3 13-mers of frequency 2 in 1 of 3 strings of length 16000\n",
      "15988 13-mers of frequency 1 in 1 of 3 strings of length 16000\n",
      "15988 13-mers of frequency 1 in 1 of 3 strings of length 16000\n",
      "2 13-mers of frequency 2 in 1 of 3 strings of length 18000\n",
      "8 13-mers of frequency 2 in 1 of 3 strings of length 18000\n",
      "3 13-mers of frequency 2 in 1 of 3 strings of length 18000\n",
      "19988 13-mers of frequency 1 in 1 of 3 strings of length 20000\n",
      "19988 13-mers of frequency 1 in 1 of 3 strings of length 20000\n",
      "8 13-mers of frequency 2 in 1 of 3 strings of length 20000\n"
     ]
    }
   ],
   "source": [
    "k = 13\n",
    "\n",
    "\n",
    "outputs = run_multiprocessing_fwdn(find_patterns_fdwn, lengths, filename, k, alphabet, n_processes)\n",
    "\n",
    "fwdn2times = []\n",
    "fwdn2words = []\n",
    "\n",
    "for output in outputs:\n",
    "    fwdn2times.append(output[0])\n",
    "    fwdn2words.append(output[1])\n",
    "\n",
    "print(f\"FrequentWordsDictNew time (seconds): {sum(fwdn2times)}\")\n",
    "\n",
    "print('-' * 100)\n",
    "\n",
    "print(f\"Top {k}-mers using FrequentWordsDictNew:\")\n",
    "for i in range(len(lengths)):\n",
    "    for j in range(maxStringsPerLength):\n",
    "        print(f\"{len(fwdn2words[i][j][0])} {k}-mers of frequency {fwdn2words[i][j][1]} in 1 of {maxStringsPerLength} strings of length {lengths[i]}\")\n",
    "\n",
    "\n",
    "print('-' * 100)\n",
    "print('-' * 100)\n",
    "print('-' * 100)\n",
    "\n",
    "\n",
    "outputs = run_multiprocessing_fwdi(find_patterns_fdwi, lengths, filename, k, n_processes)\n",
    "\n",
    "fwdi2times = []\n",
    "fwdi2words = []\n",
    "\n",
    "for output in outputs:\n",
    "    fwdi2times.append(output[0])\n",
    "    fwdi2words.append(output[1])\n",
    "\n",
    "print(f\"FrequentWordsDictImproved time (seconds): {sum(fwdi2times)}\")\n",
    "\n",
    "print('-' * 100)\n",
    "\n",
    "print(f\"Top {k}-mers using FrequentWordsDictImproved:\")\n",
    "for i in range(len(lengths)):\n",
    "    for j in range(maxStringsPerLength):\n",
    "        print(f\"{len(fwdi2words[i][j][0])} {k}-mers of frequency {fwdi2words[i][j][1]} in 1 of {maxStringsPerLength} strings of length {lengths[i]}\")"
   ]
  },
  {
   "cell_type": "markdown",
   "metadata": {},
   "source": [
    "#### Results\n",
    "\n",
    "Let's plot the time difference between using FrequentWordsDictNew and FrequentWordsDictImproved in searching for $13$-mers."
   ]
  },
  {
   "cell_type": "code",
   "execution_count": 23,
   "metadata": {},
   "outputs": [
    {
     "data": {
      "image/png": "[encoded data removed]",
      "text/plain": [
       "<Figure size 432x288 with 1 Axes>"
      ]
     },
     "metadata": {
      "needs_background": "light"
     },
     "output_type": "display_data"
    }
   ],
   "source": [
    "plt.title('FrequentWordsDictNew vs FrequentWordsDictImproved with k=13')\n",
    "plt.xlabel('Length of strings')\n",
    "plt.ylabel('Search time (sec)')\n",
    "plt.xscale(\"log\")\n",
    "plt.plot(lengths, fwdn2times, color='green', label='FrequentWordsDictNew')\n",
    "plt.plot(lengths, fwdi2times, color='red', label='FrequentWordsDictImproved')\n",
    "plt.legend()\n",
    "plt.show()"
   ]
  },
  {
   "cell_type": "markdown",
   "metadata": {},
   "source": [
    "#### With FrequentWordsDictImproved we can safely go to $k>13$ without hitting an execution problem.\n",
    "\n",
    "We tested values of $k$ up to $k=100$."
   ]
  },
  {
   "cell_type": "code",
   "execution_count": 24,
   "metadata": {},
   "outputs": [
    {
     "name": "stderr",
     "output_type": "stream",
     "text": [
      "17:14:05: Process 10000: starting17:14:05: Process 12000: starting17:14:05: Process 14000: starting17:14:05: Process 18000: starting\n",
      "17:14:05: Process 16000: starting17:14:05: Process 20000: starting\n",
      "\n",
      "\n",
      "\n",
      "\n",
      "17:14:05: Process 10000: finishing\n",
      "17:14:05: Process 12000: finishing\n",
      "17:14:05: Process 14000: finishing\n",
      "17:14:05: Process 18000: finishing\n",
      "17:14:05: Process 16000: finishing\n",
      "17:14:05: Process 20000: finishing\n"
     ]
    },
    {
     "name": "stdout",
     "output_type": "stream",
     "text": [
      "FrequentWordsDictImproved time (seconds): 0.14486192465604594\n",
      "----------------------------------------------------------------------------------------------------\n",
      "Top 100-mers using FrequentWordsDictImproved:\n",
      "9901 100-mers of frequency 1 in 1 of 3 strings of length 10000\n",
      "9901 100-mers of frequency 1 in 1 of 3 strings of length 10000\n",
      "9901 100-mers of frequency 1 in 1 of 3 strings of length 10000\n",
      "11901 100-mers of frequency 1 in 1 of 3 strings of length 12000\n",
      "11901 100-mers of frequency 1 in 1 of 3 strings of length 12000\n",
      "11901 100-mers of frequency 1 in 1 of 3 strings of length 12000\n",
      "13901 100-mers of frequency 1 in 1 of 3 strings of length 14000\n",
      "13901 100-mers of frequency 1 in 1 of 3 strings of length 14000\n",
      "13901 100-mers of frequency 1 in 1 of 3 strings of length 14000\n",
      "15901 100-mers of frequency 1 in 1 of 3 strings of length 16000\n",
      "15901 100-mers of frequency 1 in 1 of 3 strings of length 16000\n",
      "15901 100-mers of frequency 1 in 1 of 3 strings of length 16000\n",
      "17901 100-mers of frequency 1 in 1 of 3 strings of length 18000\n",
      "17901 100-mers of frequency 1 in 1 of 3 strings of length 18000\n",
      "17901 100-mers of frequency 1 in 1 of 3 strings of length 18000\n",
      "19901 100-mers of frequency 1 in 1 of 3 strings of length 20000\n",
      "19901 100-mers of frequency 1 in 1 of 3 strings of length 20000\n",
      "19901 100-mers of frequency 1 in 1 of 3 strings of length 20000\n"
     ]
    }
   ],
   "source": [
    "k = 100\n",
    "\n",
    "\n",
    "outputs = run_multiprocessing_fwdi(find_patterns_fdwi, lengths, filename, k, n_processes)\n",
    "\n",
    "fwdi3times = []\n",
    "fwdi3words = []\n",
    "\n",
    "for output in outputs:\n",
    "    fwdi3times.append(output[0])\n",
    "    fwdi3words.append(output[1])\n",
    "\n",
    "print(f\"FrequentWordsDictImproved time (seconds): {sum(fwdi3times)}\")\n",
    "\n",
    "print('-' * 100)\n",
    "\n",
    "print(f\"Top {k}-mers using FrequentWordsDictImproved:\")\n",
    "for i in range(len(lengths)):\n",
    "    for j in range(maxStringsPerLength):\n",
    "        print(f\"{len(fwdi3words[i][j][0])} {k}-mers of frequency {fwdi3words[i][j][1]} in 1 of {maxStringsPerLength} strings of length {lengths[i]}\")"
   ]
  },
  {
   "cell_type": "markdown",
   "metadata": {},
   "source": [
    "#### Results\n",
    "\n",
    "Let's plot the time difference between using FrequentWordsDictNew in searching for $13$-mers and FrequentWordsDictImproved in searching for $100$-mers."
   ]
  },
  {
   "cell_type": "code",
   "execution_count": 25,
   "metadata": {},
   "outputs": [
    {
     "data": {
      "image/png": "[encoded data removed]",
      "text/plain": [
       "<Figure size 432x288 with 1 Axes>"
      ]
     },
     "metadata": {
      "needs_background": "light"
     },
     "output_type": "display_data"
    }
   ],
   "source": [
    "plt.title('FrequentWordsDictNew vs FrequentWordsDictImproved')\n",
    "plt.xlabel('Length of strings')\n",
    "plt.ylabel('Search time (sec)')\n",
    "plt.xscale(\"log\")\n",
    "plt.plot(lengths, fwdn2times, color='green', label='FrequentWordsDictNew with k=13')\n",
    "plt.plot(lengths, fwdi3times, color='red', label='FrequentWordsDictImproved with k=100')\n",
    "plt.legend()\n",
    "plt.show()"
   ]
  },
  {
   "cell_type": "markdown",
   "metadata": {},
   "source": [
    "## Part 2: Avoid generating $4^k$ $k$-mers\n",
    "### Consider the problem \"find all most frequent $k$-mers with up to d mismatches in a DNA string\" as presented in lecture L3. Give ideas to avoid generating $4^k$ $k$-mers."
   ]
  },
  {
   "cell_type": "markdown",
   "metadata": {},
   "source": [
    "#### Given a found $k$-mer in a DNA string, we can generate its $(k,d)$-neighbors. Each $(k,d)$-neighbor is a $k$-mer with $d$ mismatches compared to the original $k$-mer.\n",
    "#### Using this method, we can create all ${k \\choose 1} + {k \\choose 2} + ... + {k \\choose d}$ $(k,d)$-neighbors with up to $d$ mismatches for every original $k$-mer we find in a DNA string.\n",
    "#### ${k \\choose 1} + {k \\choose 2} + {}  ... {} + {k \\choose d} {} < {} {d}\\cdot{k \\choose d} {} < {} d\\cdot{k^d} {} = {} O(d\\cdot{k^d})$ which for \"small\" values of $k$ and $d$ is signicifanctly smaller than $4^k$.\n",
    "#### Also, since we examine DNA strings which are not really random strings, as a DNA string is a unique characterstic of a living organism, this means that some $k$-mers will reappear within the string and that we will get the same $(k,d)$-neighbors for different $k$-mers with high resemblence. So, the total number of $k$-mers generated will be really a fraction of $4^k$."
   ]
  }
 ],
 "metadata": {
  "kernelspec": {
   "display_name": "Python 3",
   "language": "python",
   "name": "python3"
  },
  "language_info": {
   "codemirror_mode": {
    "name": "ipython",
    "version": 3
   },
   "file_extension": ".py",
   "mimetype": "text/x-python",
   "name": "python",
   "nbconvert_exporter": "python",
   "pygments_lexer": "ipython3",
   "version": "3.6.13"
  }
 },
 "nbformat": 4,
 "nbformat_minor": 4
}
